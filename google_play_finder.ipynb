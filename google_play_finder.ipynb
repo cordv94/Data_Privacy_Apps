{
 "cells": [
  {
   "cell_type": "markdown",
   "metadata": {},
   "source": [
    "# GOOGLEPLAY APP FINDER\n",
    "### THE PURPOSE OF THIS FUNCTION IS TO FIND INFORMATION ON GOOGLE PLAY APPS FROM A GOOGLE SEARCH\n"
   ]
  },
  {
   "cell_type": "code",
   "execution_count": 4,
   "metadata": {},
   "outputs": [],
   "source": [
    "google='https://play.google.com/store/apps'\n",
    "\n",
    "company_list = ['Barr%20Systems,%20LLC','BKR%20Partners','Brighter%20Green']\n"
   ]
  },
  {
   "cell_type": "markdown",
   "metadata": {},
   "source": [
    "### GOOGLE_PLAY_APPFINDER\n",
    "This function provides you with the google play links for apps "
   ]
  },
  {
   "cell_type": "code",
   "execution_count": 95,
   "metadata": {},
   "outputs": [],
   "source": [
    "def google_play_appfinder(url):\n",
    "    from urllib.request import urlopen\n",
    "    from bs4 import BeautifulSoup\n",
    "    from urllib.error import HTTPError\n",
    "    from urllib.request import Request, urlopen\n",
    "    from urllib.error import URLError\n",
    "    import json\n",
    "    import re\n",
    "    try:\n",
    "        req = Request(url,headers={'User-Agent': 'Mozilla/5.0'})\n",
    "        html = urlopen(req)\n",
    "    except HTTPError as e:\n",
    "        print(e)\n",
    "    except URLError as e:\n",
    "        print('There is an error with this URL')\n",
    "    else:\n",
    "        bs = BeautifulSoup(html.read(), 'html.parser')    \n",
    "        app_list = bs.find_all('div', {'class': 'b8cIId ReQCgd Q9MA7b'})\n",
    "        for app in range(0,len(app_list)):\n",
    "            print('this is app #',app)\n",
    "            print(app_list[app].get_text())\n",
    "            web_list= app_list[app].a\n",
    "            print(re.findall(r'href=[\\\"\\'](.*?)[\\\"\\']', str(web_list)))"
   ]
  },
  {
   "cell_type": "code",
   "execution_count": null,
   "metadata": {},
   "outputs": [],
   "source": [
    "google_play_appfinder(google)"
   ]
  },
  {
   "cell_type": "markdown",
   "metadata": {},
   "source": [
    "### GOOGLE_PLAY_APP_PRIVACYPOLICYFINDER\n",
    "This fucntion provides you with the link for each apps privacy policy link "
   ]
  },
  {
   "cell_type": "code",
   "execution_count": 139,
   "metadata": {},
   "outputs": [],
   "source": [
    "def google_play_app_privacypolicyfinder(url):\n",
    "    from urllib.request import urlopen\n",
    "    from bs4 import BeautifulSoup\n",
    "    from urllib.error import HTTPError\n",
    "    from urllib.request import Request, urlopen\n",
    "    from urllib.error import URLError\n",
    "    import json\n",
    "    import re\n",
    "    try:\n",
    "        req = Request(url,headers={'User-Agent': 'Mozilla/5.0'})\n",
    "        html = urlopen(req)\n",
    "    except HTTPError as e:\n",
    "        print(e)\n",
    "    except URLError as e:\n",
    "        print('There is an error with this URL')\n",
    "    else:\n",
    "        bs = BeautifulSoup(html.read(), 'html.parser')    \n",
    "        app_list = bs.div.find_all('a', {'class':'hrTbp'})\n",
    "        print(app_list[5].get_text())\n",
    "        print(re.findall(r'href=[\\\"\\'](.*?)[\\\"\\']', str(app_list[5])))"
   ]
  },
  {
   "cell_type": "code",
   "execution_count": 141,
   "metadata": {},
   "outputs": [
    {
     "name": "stdout",
     "output_type": "stream",
     "text": [
      "Privacy Policy\n",
      "['https://www.tiktok.com/legal/privacy-policy']\n"
     ]
    }
   ],
   "source": [
    "google_play_app_privacypolicyfinder('https://play.google.com/store/apps/details?id=com.zhiliaoapp.musically')"
   ]
  },
  {
   "cell_type": "code",
   "execution_count": null,
   "metadata": {},
   "outputs": [],
   "source": []
  },
  {
   "cell_type": "code",
   "execution_count": null,
   "metadata": {
    "scrolled": true
   },
   "outputs": [],
   "source": [
    "companies_url = [google + company for company in company_list]\n",
    "\n",
    "for url in range(804,len(companies_url)):\n",
    "        print('THIS IS THE COMPANY #', url)\n",
    "        google_business_finder(companies_url[url])"
   ]
  },
  {
   "cell_type": "code",
   "execution_count": null,
   "metadata": {},
   "outputs": [],
   "source": []
  }
 ],
 "metadata": {
  "kernelspec": {
   "display_name": "Python 3",
   "language": "python",
   "name": "python3"
  },
  "language_info": {
   "codemirror_mode": {
    "name": "ipython",
    "version": 3
   },
   "file_extension": ".py",
   "mimetype": "text/x-python",
   "name": "python",
   "nbconvert_exporter": "python",
   "pygments_lexer": "ipython3",
   "version": "3.8.5"
  }
 },
 "nbformat": 4,
 "nbformat_minor": 4
}
